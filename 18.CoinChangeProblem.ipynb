{
 "cells": [
  {
   "cell_type": "code",
   "execution_count": 1,
   "metadata": {},
   "outputs": [],
   "source": [
    "def rec_coin(target,coins,cache):\n",
    "    \n",
    "    min_coins = target\n",
    "    \n",
    "    if target in coins:\n",
    "        cache[target] = 1\n",
    "        return 1\n",
    "    \n",
    "    elif cache[target] > 0:\n",
    "        return cache[target]\n",
    "    \n",
    "    else:\n",
    "        for i in [c for c in coins if c <= target]:\n",
    "            \n",
    "            num_coins = 1 + rec_coin(target - i, coins, cache)\n",
    "            \n",
    "            if num_coins < min_coins:\n",
    "                \n",
    "                min_coins = num_coins\n",
    "                cache[target] = min_coins  \n",
    "        \n",
    "    return min_coins"
   ]
  },
  {
   "cell_type": "code",
   "execution_count": 2,
   "metadata": {},
   "outputs": [
    {
     "data": {
      "text/plain": [
       "8"
      ]
     },
     "execution_count": 2,
     "metadata": {},
     "output_type": "execute_result"
    }
   ],
   "source": [
    "target = 74\n",
    "coins = [1,5,10,25]\n",
    "cache = [0]*(target+1)\n",
    "rec_coin(target,coins,cache)"
   ]
  }
 ],
 "metadata": {
  "kernelspec": {
   "display_name": "Python 3",
   "language": "python",
   "name": "python3"
  },
  "language_info": {
   "codemirror_mode": {
    "name": "ipython",
    "version": 3
   },
   "file_extension": ".py",
   "mimetype": "text/x-python",
   "name": "python",
   "nbconvert_exporter": "python",
   "pygments_lexer": "ipython3",
   "version": "3.7.1"
  }
 },
 "nbformat": 4,
 "nbformat_minor": 2
}

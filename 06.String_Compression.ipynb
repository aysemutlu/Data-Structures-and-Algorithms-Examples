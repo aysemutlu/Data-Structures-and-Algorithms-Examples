{
 "cells": [
  {
   "cell_type": "code",
   "execution_count": 1,
   "metadata": {},
   "outputs": [],
   "source": [
    "def compress(s):\n",
    "    \n",
    "    r = \"\"\n",
    "    l = len(s)\n",
    "    \n",
    "    #Case Check\n",
    "    if l == 0:\n",
    "        return \"\"\n",
    "    if l == 1:\n",
    "        return s + \"1\"\n",
    "    \n",
    "    last = s[0]\n",
    "    count = 1\n",
    "    i = 1\n",
    "    \n",
    "    while i < l:\n",
    "        \n",
    "        if s[i] == s[i-1]:\n",
    "            count += 1\n",
    "        else:\n",
    "            r = r + s[i-1] + str(count)\n",
    "            count = 1\n",
    "            \n",
    "        i += 1\n",
    "        \n",
    "    r = r + s[i-1] + str(count)\n",
    "    \n",
    "    return r\n",
    "    "
   ]
  },
  {
   "cell_type": "code",
   "execution_count": 2,
   "metadata": {},
   "outputs": [
    {
     "data": {
      "text/plain": [
       "'A1a3b1c3'"
      ]
     },
     "execution_count": 2,
     "metadata": {},
     "output_type": "execute_result"
    }
   ],
   "source": [
    "compress('Aaaabccc')"
   ]
  }
 ],
 "metadata": {
  "kernelspec": {
   "display_name": "Python 3",
   "language": "python",
   "name": "python3"
  },
  "language_info": {
   "codemirror_mode": {
    "name": "ipython",
    "version": 3
   },
   "file_extension": ".py",
   "mimetype": "text/x-python",
   "name": "python",
   "nbconvert_exporter": "python",
   "pygments_lexer": "ipython3",
   "version": "3.7.1"
  }
 },
 "nbformat": 4,
 "nbformat_minor": 2
}
